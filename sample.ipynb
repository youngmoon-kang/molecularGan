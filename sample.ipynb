{
 "cells": [
  {
   "cell_type": "code",
   "execution_count": 1,
   "metadata": {},
   "outputs": [],
   "source": [
    "import torch\n",
    "import torch.nn as nn\n",
    "import torch.optim as optim\n",
    "from torch.utils.data import DataLoader, Dataset\n",
    "\n",
    "import numpy as np\n",
    "import matplotlib.pyplot as plt\n",
    "import os\n",
    "import time\n",
    "\n",
    "from utils2 import *\n",
    "import sys\n",
    "from autoencoder_model import get_model\n",
    "from model import get_model_gen_dis"
   ]
  },
  {
   "cell_type": "code",
   "execution_count": 2,
   "metadata": {},
   "outputs": [],
   "source": [
    "def make_noise(batch_size):\n",
    "    noise = np.random.rand(batch_size, 100)\n",
    "    return noise\n",
    "\n",
    "def test(gen, decoder):\n",
    "    gen.eval()\n",
    "    decoder.eval()\n",
    "    sample = make_noise(1)\n",
    "    sample = torch.from_numpy(sample).float()\n",
    "    sample = sample.cuda()\n",
    "    hidden = gen(sample)\n",
    "    hidden = hidden.unsqueeze(0)\n",
    "    \n",
    "    prev_output = np.zeros((1, 1, 256), dtype = np.long)\n",
    "    prev_output = torch.from_numpy(prev_output).long().cuda()\n",
    "    result = np.zeros((1, 120))\n",
    "    \n",
    "    for i in range(120):\n",
    "        prev_output, hidden, output = decoder(prev_output, hidden)\n",
    "        _topv, topi = output.topk(1)\n",
    "        result[0, i] = topi\n",
    "            \n",
    "    print(result)\n",
    "    print('predicted: ', num_to_smiles(result))\n",
    "    return"
   ]
  },
  {
   "cell_type": "code",
   "execution_count": 3,
   "metadata": {},
   "outputs": [
    {
     "data": {
      "text/plain": [
       "Discriminator(\n",
       "  (l1): Linear(in_features=256, out_features=128, bias=True)\n",
       "  (l2): Linear(in_features=128, out_features=64, bias=True)\n",
       "  (l3): Linear(in_features=64, out_features=32, bias=True)\n",
       "  (l4): Linear(in_features=32, out_features=1, bias=True)\n",
       "  (drop_out): Dropout(p=0.8, inplace=False)\n",
       "  (relu): ReLU()\n",
       "  (tanh): Tanh()\n",
       ")"
      ]
     },
     "execution_count": 3,
     "metadata": {},
     "output_type": "execute_result"
    }
   ],
   "source": [
    "gen, dis = get_model_gen_dis()\n",
    "encoder, decoder = get_model()\n",
    "\n",
    "encoder.load_state_dict(torch.load('./save/encoder299.pth'))\n",
    "encoder.eval()\n",
    "decoder.load_state_dict(torch.load('./save/decoder299.pth'))\n",
    "decoder.eval()\n",
    "\n",
    "gen.load_state_dict(torch.load('./save/gen.pth'))\n",
    "gen.eval()\n",
    "dis.load_state_dict(torch.load('./save/dis.pth'))\n",
    "dis.eval()\n",
    "\n",
    "encoder.cuda()\n",
    "decoder.cuda()\n",
    "gen.cuda()\n",
    "dis.cuda()"
   ]
  },
  {
   "cell_type": "code",
   "execution_count": 4,
   "metadata": {},
   "outputs": [
    {
     "name": "stdout",
     "output_type": "stream",
     "text": [
      "[[ 2.  2.  2.  2.  6.  6.  1.  1.  1.  3.  2.  2.  2.  2.  2.  8. 14. 18.\n",
      "  11. 11.  1.  1.  1.  1.  4.  4.  2.  2.  6.  0.  0.  0.  0.  0.  0.  0.\n",
      "   0.  0.  0.  0.  0.  0.  0.  0.  0.  0.  0.  0.  0.  0.  0.  0.  0.  0.\n",
      "   0.  0.  0.  0.  0.  0.  0.  0.  0.  0.  0.  0.  0.  0.  0.  0.  0.  0.\n",
      "   0.  0.  0.  0.  0.  0.  0.  0.  0.  0.  0.  0.  0.  0.  0.  0.  0.  0.\n",
      "   0.  0.  0.  0.  0.  0.  0.  0.  0.  0.  0.  0.  0.  0.  0.  0.  0.  0.\n",
      "   0.  0.  0.  0.  0.  0.  0.  0.  0.  0.  0.  0.]]\n",
      "predicted:  CCCC11ccc(CCCCCNH+]]cccc))CC1                                                                                           \n"
     ]
    }
   ],
   "source": [
    "test(gen, decoder)"
   ]
  }
 ],
 "metadata": {
  "kernelspec": {
   "display_name": "Python 3",
   "language": "python",
   "name": "python3"
  },
  "language_info": {
   "codemirror_mode": {
    "name": "ipython",
    "version": 3
   },
   "file_extension": ".py",
   "mimetype": "text/x-python",
   "name": "python",
   "nbconvert_exporter": "python",
   "pygments_lexer": "ipython3",
   "version": "3.7.2"
  }
 },
 "nbformat": 4,
 "nbformat_minor": 4
}
